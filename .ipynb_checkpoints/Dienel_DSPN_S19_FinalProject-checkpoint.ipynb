{
 "cells": [
  {
   "cell_type": "markdown",
   "metadata": {},
   "source": [
    "# Antemortem and Postmortem Factors Influencing Brain Tissue Volume"
   ]
  },
  {
   "cell_type": "markdown",
   "metadata": {},
   "source": [
    "## II. Background\n",
    "Our understanding of severe mental illness has been greatly advanced through the study of the postmortem human brain tissue (Lewis DA, *Neuropsychopharm.*, 2002; McCullumsmith, *Neuropsychopharm.* 2013). Studies of the postmortem human brain provide insight into the molecular and structural abnormalities which are thought to be the neural substrate for symptoms in these patient populations. Postmortem brain tissue samples are becoming widely recognized as providing ample opportunity to investigate these brain diseases, and a great deal of resources from the National Institute of Mental Health is going towards studies of the postmortem human brain.  \n",
    "\n",
    "Postmortem studies of human brain provide an important bridge linking animal studies to neuroimaging and other *in vivo* approaches. One example of this link between animal studies and *in vivo* neuroimaging studies is reporting of brain volume abnomralities. There is a significant body of literature to implicate nearly every psychiatric illness with abnormalities in brain tissue volume as reported by structural MRI data, including major depressive disorder (Koolschijin PC et al., *Hum Brain Mapp.* 2009), bipolar disorder (Kempton MJ et al., *Arch Gen Psychiatry.* 2008), schizophrenia (Steen et al., *Br J Psychiatry.*, 2006; Boos et al., *Arch Gen Psychiatry.* 2007), and alcohol use disorder (Bae et al., *Exp Neurobiol.*, 2016). \n",
    "\n",
    "The large number of studies that report significant associations of psychiatric diagnosis with brain volume changes could reflect the true association of major mental illness with brain volume abnormalities. However, these findings might also be influenced by a variety of antemortem factors. For example, antipsychotic use has been associated with brain volume loss in monkeys chronically exposed to typical and atypical antipsychotics (Dorph-Petersen et al., *Neuropsychopharm.*, 2005). Moreover, it is widely recognized that the neuroimaging data exhibits a reporting bias in the literature (Ioannidis, *Arch Gen Psychiatry.* 2011). Thus, the abnormalities in brain tissue volume could reflect true biological differences, may be a consequence of other comorbid factors influencing brain tissue volume, or could be a product of excessive reporting bias in the literature.\n",
    "\n",
    "Understanding how antemortem factors, such as psychiatric diagnosis, drug use, and age, together with other postmortem factors important for brain banking, influence brain tissue volume is of relevance for both clinical and basic scientists. Therefore, the present study sought to characterize the antemortem and postmortem factors influencing brain tissue volume using an existing cohort of highly characterized brain tissue specimens. Our objective was to identify which antemortem and postmortem factors influenced brain tissue volume measured at the time of tissue recovery. Our subject groups included control subjects (CTL) and those diagnosed with alcohol use disorder subjects (ETOH), major depressive disorder (MDD), bipolar disorder (BP), and schizophrenia (SCZ)."
   ]
  },
  {
   "cell_type": "markdown",
   "metadata": {},
   "source": [
    "## III. Variables\n",
    "The main variables of interest are diagnostic category (CTL, ETOH, MDD, BP, and SCZ). \n",
    "\n",
    "Antemortem biological variables that will be accounted for include sex (M/F), ethnicity, age, duration of illness (in years), cause of death category (natural, accidental drug/alcohol death, traumatic deaths, neurologic-related deaths), suicide, tobacco use at time of death (Y/N), antidepressant use at time of death (Y/N), antipsychotic use at time of death, benzodiazepine use at time of death (Y/N). \n",
    "\n",
    "Quantitative variables that will be accounted for include height, weight, BMI, age (years), and duration of illness (years), post-mortem interval (time between death and tissue recovery). \n",
    "\n",
    "Random variables that will be accounted for include date of measurement taken and experimenter.\n",
    "\n",
    "Number of observations:\n",
    "Control = 186\n",
    "ETOH = 148\n",
    "MDD = 168\n",
    "BP = 26\n",
    "SCZ = 41"
   ]
  },
  {
   "cell_type": "markdown",
   "metadata": {},
   "source": [
    "## IV. Hypotheses\n",
    "\n",
    "We predict that left hemisphere brain tissue volume (our dependent continuous variable $y$) will be significantly different in the SCZ and ETOH groups, but not the MDD and BP groups, from control subjects. We will be using linear regression (rather than classifier models), as volume output is a quantitative continuous variable. This basic \n",
    "\n",
    "$y_{volume}$  \n",
    "$x_{diagnosis}$  \n",
    "$x_{antipsychotics}$  \n",
    "$x_{age}$  \n",
    "$x_{sex}$  \n",
    "$x_{ETOH}$ or a comorbid alcohol use disorder diagnosis .  \n",
    "\n",
    "\n",
    "  \n",
    "The form of the hypothesis that we want to test is as follows: after accounting for the variation in brain volume due to sex and age, how much of the variability in the data is explained by psychiatric diagnosis? Which diagnoses are significantly different than control subjects? In other words:\n",
    "\n",
    "$ Y_{volume} = \\beta_0 + \\beta_{diagnosis}x_{diagnosis} + + \\beta_{sex}x_{sex} + + \\beta_{age}x_{age} + + \\beta_{antipsychotics}x_{antipsychotics}+  \\beta_{diagnosis*age}x_{diagnosis*age} + \\beta_{diagnosis*sex}x_{diagnosis*sex} + \\beta_{diagnosis*antipsychotics}x_{diagnosis*antipsychotics} + \\beta_{diagnosis*age*antipsychotics}x_{diagnosis*age*antipsychotics} + \\epsilon $"
   ]
  },
  {
   "cell_type": "markdown",
   "metadata": {},
   "source": [
    "## V. Data Organization\n",
    "\n",
    "The data are organized as a data frame, with the subject identifier in the first column and a number of descriptors."
   ]
  },
  {
   "cell_type": "markdown",
   "metadata": {},
   "source": [
    "## VI. Analysis"
   ]
  },
  {
   "cell_type": "markdown",
   "metadata": {},
   "source": [
    "## VII. Conclusions"
   ]
  }
 ],
 "metadata": {
  "kernelspec": {
   "display_name": "R",
   "language": "R",
   "name": "ir"
  },
  "language_info": {
   "codemirror_mode": "r",
   "file_extension": ".r",
   "mimetype": "text/x-r-source",
   "name": "R",
   "pygments_lexer": "r",
   "version": "3.5.2"
  }
 },
 "nbformat": 4,
 "nbformat_minor": 2
}
