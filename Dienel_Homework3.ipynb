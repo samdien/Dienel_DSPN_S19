{
 "cells": [
  {
   "cell_type": "markdown",
   "metadata": {},
   "source": [
    "# Homework 3: "
   ]
  },
  {
   "cell_type": "markdown",
   "metadata": {},
   "source": [
    "### **Conceptual:** Short answer questions. Be concise"
   ]
  },
  {
   "cell_type": "markdown",
   "metadata": {},
   "source": [
    "---\n",
    "\n",
    "1. Using the mean squared error (MSE) as your objective function allows for a closed form solution to finding the maximum likelihood estimate (MLE) of your model parameters in linear regression. Let’s consider the simple, single predictor variable model $Y= \\beta_0 + \\beta_1 X $. \n",
    "\n",
    "a) Use algebra to show how you can expand out the MSE to get from i to ii below. Do your proof using Latex equation formatting.\n"
   ]
  },
  {
   "cell_type": "markdown",
   "metadata": {},
   "source": [
    " _i)_ $MSE(\\beta_0, \\beta_1)=E[ (Y-(\\beta_0 + \\beta_1 X))^2]$ "
   ]
  },
  {
   "cell_type": "markdown",
   "metadata": {},
   "source": [
    "**Answer:**"
   ]
  },
  {
   "cell_type": "markdown",
   "metadata": {},
   "source": [
    "_ii)_ $=E[Y^2] -2 \\beta_0E[Y]-2 \\beta_1 Cov[X,Y]-2 \\beta_1 E[X]E[Y]+ \\beta_0^2 +2 \\beta_0 \\beta_1 E[X]+\\beta_1^2 Var[X]+ \\beta_1^2 (E[X])^2$"
   ]
  },
  {
   "cell_type": "markdown",
   "metadata": {},
   "source": [
    "b) Prove that the MLE of $\\beta_0$ is $E[Y]- \\beta_1 E[X]$ by taking the derivative of _ii_ above, with respect to $\\beta_0$, setting the derivative to zero, and solving for $\\beta_0$."
   ]
  },
  {
   "cell_type": "markdown",
   "metadata": {},
   "source": [
    "**Answer:**"
   ]
  },
  {
   "cell_type": "markdown",
   "metadata": {},
   "source": [
    "c) Prove that the MLE for $\\beta_1$ is $Cov[X,Y]/Var[X]$ by taking the derivative of _ii_ above, with respect to $\\beta_1$, setting the derivative to zero, and solving for $\\beta_1$. "
   ]
  },
  {
   "cell_type": "markdown",
   "metadata": {},
   "source": [
    "**Answer:**"
   ]
  },
  {
   "cell_type": "markdown",
   "metadata": {},
   "source": [
    "---\n",
    "\n",
    "2. Using the MLE solutions shown in 1(b) and 1(c) above, show how, in the case of simple linear regression, the least squares line always passes through the point $(E(X), E(Y))$ or $(x,y)$). What does this imply about the leverage that the response and predictor variable means have on the ordinary least squares solution?"
   ]
  },
  {
   "cell_type": "markdown",
   "metadata": {},
   "source": [
    "**Answer:**"
   ]
  },
  {
   "cell_type": "markdown",
   "metadata": {},
   "source": [
    "---\n",
    "3. In the case where X and Y are standard normal variables (i.e. $N(0,1)$), show that the ordinary least squares solution converges to the same solution as the Pearson correlation coefficient $r=Cov[X,Y]/(\\sigma_X * \\sigma_Y)$. What exactly do they both converge to?\n"
   ]
  },
  {
   "cell_type": "markdown",
   "metadata": {},
   "source": [
    "**Answer:**"
   ]
  },
  {
   "cell_type": "markdown",
   "metadata": {},
   "source": [
    "---\n",
    "\n",
    "4. Three methods for evaluating a regression model’s performance are $r^2$, $RSE$, and the $F$ Test. Show the functional form of each method and describe conceptually what it is telling you about your model."
   ]
  },
  {
   "cell_type": "markdown",
   "metadata": {},
   "source": [
    "**Answer:**"
   ]
  },
  {
   "cell_type": "markdown",
   "metadata": {},
   "source": [
    "---\n",
    "5. Suppose that we have a dataset with five predictors, $X_1 = GPA$, $X_2 = IQ$, $X_3 = Gender$ (1 for Female and 0 for Male), $X_4$ = Interaction between GPA and IQ, and $X_5$ = Interaction between GPA and Gender. The response variable ($Y$) is starting salary after graduation (in thousands of dollars). Suppose we use least squares to fit the model, and get $\\hat{\\beta_0}$ =50, $\\hat{\\beta_1}$ =20, $\\hat{\\beta_2}$ =0.07, $\\hat{\\beta_3}$ =35, $\\hat{\\beta_4}$ =0.01, $\\hat{\\beta_5}$ =-10.\n"
   ]
  },
  {
   "cell_type": "markdown",
   "metadata": {},
   "source": [
    "a) Which answer is correct, and why?\n",
    "\n",
    "i. For a fixed value of IQ and GPA, males earn more on average than females.\n",
    "\n",
    "ii. For a fixed value of IQ and GPA, females earn more on average than males.\n",
    "\n",
    "iii. For a fixed value of IQ and GPA, males earn more on average than females provided that the GPA is high enough.\n",
    "\n",
    "iv. For a fixed value of IQ and GPA, females earn more on average than males provided that the GPA is high enough.\n"
   ]
  },
  {
   "cell_type": "markdown",
   "metadata": {},
   "source": [
    "**Answer:**"
   ]
  },
  {
   "cell_type": "markdown",
   "metadata": {},
   "source": [
    "(b) Predict the salary of a female graduate with IQ of 110 and a GPA of 4.0."
   ]
  },
  {
   "cell_type": "markdown",
   "metadata": {},
   "source": [
    "**Answer:**"
   ]
  },
  {
   "cell_type": "markdown",
   "metadata": {},
   "source": [
    "(c) True or false: Since the coefficient for the GPA/IQ interaction term is very small, there is very little evidence of an interaction effect. Justify your answer."
   ]
  },
  {
   "cell_type": "markdown",
   "metadata": {},
   "source": [
    "**Answer:**"
   ]
  },
  {
   "cell_type": "markdown",
   "metadata": {},
   "source": [
    "---\n",
    "6. What are high leverage observations? How do they impact your model fits? What assumption of linear regression do they violate?"
   ]
  },
  {
   "cell_type": "markdown",
   "metadata": {},
   "source": [
    "**Answer:**"
   ]
  },
  {
   "cell_type": "markdown",
   "metadata": {},
   "source": [
    "---\n",
    "7. A linear mixed effect model has the form $Y = X\\beta + Z\\upsilon + \\epsilon$. "
   ]
  },
  {
   "cell_type": "markdown",
   "metadata": {},
   "source": [
    "a) What are the assumptions about $Z$ and $\\upsilon$ that make this different from using a regular control variable in a simple linear regression model?\n"
   ]
  },
  {
   "cell_type": "markdown",
   "metadata": {},
   "source": [
    "**Answer:**"
   ]
  },
  {
   "cell_type": "markdown",
   "metadata": {},
   "source": [
    "b) What is the objective function for this model (i.e., the function that needs to be minimized to find the optimal parameters) and how is it different than the objective function for the ordinary least squares model?\n"
   ]
  },
  {
   "cell_type": "markdown",
   "metadata": {},
   "source": [
    "**Answer:**"
   ]
  },
  {
   "cell_type": "markdown",
   "metadata": {},
   "source": [
    "c) What advantage does including a random effects term in your model give you with regards to understanding the fixed effects relationship?"
   ]
  },
  {
   "cell_type": "markdown",
   "metadata": {},
   "source": [
    "**Answer:**"
   ]
  },
  {
   "cell_type": "markdown",
   "metadata": {},
   "source": [
    "---\n",
    "\n",
    "### **Applied:** Show your code & plots\n",
    "\n",
    "(Include conceptual answers to questions as comments in code cells)"
   ]
  },
  {
   "cell_type": "markdown",
   "metadata": {},
   "source": [
    "---\n",
    "8. Load the cbpp dataset from the lme4 library. Run ?cbpp after loading the lme4 library to get information on the dataset.\n",
    "\n",
    "(a) Plot the relationship between herd size and CBPP incidence\n",
    "\n",
    "(b) Use the lm function to model the effect of herd size (predictor) on CBPP incidence (response). How does herd size impact disease rate? Report the results of the model.\n",
    "\n",
    "(c) Use the lmer function to include the herd identifier as a random effect. How does this impact the fixed effect of herd size on CBPP incidence?\n",
    "\n",
    "(d) Compare the simple linear model (i.e., the fixed effects only model) with the mixed effect model using AIC (https://en.wikipedia.org/wiki/Akaike_information_criterion). Does adding the random effect to the model improve or change the fixed effect?\n"
   ]
  },
  {
   "cell_type": "code",
   "execution_count": null,
   "metadata": {},
   "outputs": [],
   "source": [
    "# -------------------------------\n",
    "# Question 8\n",
    "# -------------------------------\n",
    "\n",
    "# INSERT CODE HERE"
   ]
  },
  {
   "cell_type": "markdown",
   "metadata": {},
   "source": [
    "---\n",
    "\n",
    "\n",
    "9. This question involves the use of multiple linear regression on the _Auto_ data set. (From ISLR Chapter 3, Exercise #9)\n",
    "\n",
    "(a) Produce a scatterplot matrix which includes all of the variables in the data set.\n",
    "\n",
    "(b) Compute the matrix of correlations between the variables using the function _cor()_. You will need to exclude the name variable, which is qualitative.\n",
    "\n",
    "(c) Use the _lm()_ function to perform a multiple linear regression with mpg as the response and all other variables except name as the predictors. Use the _summary()_ function to print the results. Comment on the output. For instance:\n",
    "\n",
    "i. Is there a relationship between the predictors and the response?\n",
    "\n",
    "ii. Which predictors appear to have a statistically significant relationship to the response?\n",
    "\n",
    "iii. What does the coefficient for the year variable suggest?\n",
    "\n",
    "(d) Use the _plot()_ function to produce diagnostic plots of the linear regression fit. Comment on any problems you see with the fit. Do the residual plots suggest any unusually large outliers? Does the leverage plot identify any observations with unusually high leverage?\n",
    "\n",
    "(e) Use the _*_ and _:_ symbols to fit linear regression models with interaction effects. Do any interactions appear to be statistically significant?\n",
    "\n",
    "(f) Try a few different transformations of the variables, such as log(X), √X, X2. Comment on your findings."
   ]
  },
  {
   "cell_type": "code",
   "execution_count": 4,
   "metadata": {},
   "outputs": [],
   "source": [
    "# -------------------------------\n",
    "# Question 9\n",
    "# -------------------------------\n",
    "\n",
    "# INSERT CODE HERE"
   ]
  },
  {
   "cell_type": "markdown",
   "metadata": {},
   "source": [
    "---\n",
    "\n",
    "10. This question should be answered using the _Carseats_ data set. (From ISLR Chapter 3, Exercise #10)\n",
    "\n",
    "(a) Fit a multiple regression model to predict Sales using Price,\n",
    "Urban, and US.\n",
    "\n",
    "(b) Provide an interpretation of each coefficient in the model. Be\n",
    "careful—some of the variables in the model are qualitative!\n",
    "\n",
    "(c) Write out the model in equation form, being careful to handle the qualitative variables properly.\n",
    "\n",
    "(d) For which of the predictors can you reject the null hypothesis $H_0 : \\beta_j = 0$?\n",
    "\n",
    "(e) On the basis of your response to the previous question, fit a smaller model that only uses the predictors for which there is evidence of association with the outcome.\n",
    "\n",
    "(f) How well do the models in (a) and (e) fit the data?\n",
    "\n",
    "(g) Using the model from (e), obtain 95% confidence intervals for the coefficient(s).\n",
    "\n",
    "(h) Is there evidence of outliers or high leverage observations in the model from (e)?"
   ]
  },
  {
   "cell_type": "code",
   "execution_count": 5,
   "metadata": {},
   "outputs": [],
   "source": [
    "# -------------------------------\n",
    "# Question 10\n",
    "# -------------------------------\n",
    "\n",
    "# INSERT CODE HERE"
   ]
  },
  {
   "cell_type": "markdown",
   "metadata": {},
   "source": [
    "---\n",
    "\n",
    "11. In this exercise you will create some simulated data and will fit simple linear regression models to it. Make sure to use _set.seed(1)_ prior to starting part (a) to ensure consistent results. (From ISLR Chapter 3, Exercise #13)\n",
    "\n",
    "(a) Using the _rnorm()_ function, create a vector, $x$, containing 100 observations drawn from a N(0,1) distribution. This represents a feature, $X$.\n",
    "\n",
    "(b) Using the _rnorm()_ function, create a vector, eps, containing 100 observations drawn from a N(0,0.25) distribution i.e. a normal distribution with mean zero and variance 0.25.\n",
    "\n",
    "(c) Using x and eps, generate a vector y according to the model\n",
    "\n",
    "$$ Y = -1 + 0.5X + \\epsilon $$\n",
    "\n",
    "What is the length of the vector $y$? What are the values of $\\beta_0$ and $\\beta_1$ in this linear model?\n",
    "\n",
    "(d) Create a scatterplot displaying the relationship between $x$ and $y$. Comment on what you observe.\n",
    "\n",
    "(e) Fit a least squares linear model to predict y using x. Comment on the model obtained. How do $\\hat{\\beta_0}$ and $\\hat{\\beta_1}$ compare to $\\beta_0$ and $\\beta_1$?\n",
    "\n",
    "(f) Display the least squares line on the scatterplot obtained in (d). Draw the population regression line on the plot, in a different color. Use the _legend()_ command to create an appropriate legend.\n",
    "\n",
    "(g) Now fit a polynomial regression model that predicts $y$ using $x$ and $x^2$. Is there evidence that the quadratic term improves the model fit? Explain your answer.\n",
    "\n",
    "(h) Repeat (a)–(f) after modifying the data generation process in such a way that there is less noise in the data. The model in (c) should remain the same. You can do this by decreasing the variance of the normal distribution used to generate the error term $\\epsilon$ in (b). Describe your results.\n",
    "\n",
    "(i) Repeat (a)–(f) after modifying the data generation process in such a way that there is more noise in the data. The model in (c) should remain the same. You can do this by increasing the variance of the normal distribution used to generate the error term $\\epsilon$ in (b). Describe your results.\n",
    "\n",
    "(j) What are the confidence intervals for $\\beta_0$ and $\\beta_1$ based on the original data set, the noisier data set, and the less noisy data set? Comment on your results."
   ]
  },
  {
   "cell_type": "code",
   "execution_count": null,
   "metadata": {},
   "outputs": [],
   "source": [
    "# -------------------------------\n",
    "# Question 11\n",
    "# -------------------------------\n",
    "\n",
    "# INSERT CODE HERE"
   ]
  }
 ],
 "metadata": {
  "kernelspec": {
   "display_name": "R",
   "language": "R",
   "name": "ir"
  },
  "language_info": {
   "codemirror_mode": "r",
   "file_extension": ".r",
   "mimetype": "text/x-r-source",
   "name": "R",
   "pygments_lexer": "r",
   "version": "3.5.2"
  }
 },
 "nbformat": 4,
 "nbformat_minor": 2
}
